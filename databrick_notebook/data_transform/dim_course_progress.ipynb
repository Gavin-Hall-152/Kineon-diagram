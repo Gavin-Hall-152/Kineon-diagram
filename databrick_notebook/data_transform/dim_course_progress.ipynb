{
 "cells": [
  {
   "cell_type": "code",
   "execution_count": 0,
   "metadata": {
    "application/vnd.databricks.v1+cell": {
     "cellMetadata": {
      "byteLimit": 2048000,
      "rowLimit": 10000
     },
     "inputWidgets": {},
     "nuid": "ccdbe773-988a-4c8a-aeef-c88f25f1adff",
     "showTitle": false,
     "tableResultSettingsMap": {},
     "title": ""
    }
   },
   "outputs": [],
   "source": [
    "from pyspark.sql import functions as F\n",
    "from pyspark.sql.window import Window\n",
    "\n",
    "def dim_course_progress(catalog_name):\n",
    "    # Read the raw course completion data from the specified table\n",
    "    analytics_course_completions = f\"{catalog_name}.cleaned_data.analytics_course_completions\"\n",
    "    df = spark.read.table(analytics_course_completions)\n",
    "\n",
    "    # Generate a unique identifier for each course-user combination\n",
    "    df = df.withColumn(\"course_user_id_str\", F.concat_ws(\"_\", F.col(\"Course ID\").cast(\"string\"), F.col(\"User ID\").cast(\"string\")))\n",
    "\n",
    "    # Select and rename relevant columns\n",
    "    df_selected = df.select(\n",
    "        \"course_user_id_str\",\n",
    "        F.col(\"Course ID\").alias(\"course_id\"),\n",
    "        F.col(\"User ID\").alias(\"user_id\"),\n",
    "        F.col(\"Course Name\").alias(\"course_name\"),\n",
    "        F.col(\"Course Category\").alias(\"course_category\"),\n",
    "        F.col(\"Completion Status\").alias(\"completion_status\"),\n",
    "        F.col(\"Time enrolled\").alias(\"time_enrolled\"),\n",
    "        F.col(\"Time started\").alias(\"time_started\"),\n",
    "        F.col(\"Time completed\").alias(\"time_completed\")\n",
    "    )\n",
    "\n",
    "    # Add a surrogate key using the row_number() function\n",
    "    window_spec = Window.orderBy(\"course_user_id_str\")\n",
    "    df_with_id = df_selected.withColumn(\"course_user_id\", F.row_number().over(window_spec))\n",
    "\n",
    "    # Create a fallback row with default values (for cases with missing data)\n",
    "    fallback_row = spark.createDataFrame([{\n",
    "        \"course_user_id\": -1,\n",
    "        \"course_id\": -1,\n",
    "        \"user_id\": -1,\n",
    "        \"course_name\": \"N/A\",\n",
    "        \"course_category\": \"N/A\",\n",
    "        \"completion_status\": \"N/A\",\n",
    "        \"time_enrolled\": \"1900-01-01\",\n",
    "        \"time_started\": \"1900-01-01\",\n",
    "        \"time_completed\": \"1900-01-01\"\n",
    "    }])\n",
    "\n",
    "    # Cast the fallback date columns to the date type\n",
    "    fallback_row = fallback_row.withColumn(\"time_enrolled\", F.col(\"time_enrolled\").cast(\"date\")) \\\n",
    "                               .withColumn(\"time_started\", F.col(\"time_started\").cast(\"date\")) \\\n",
    "                               .withColumn(\"time_completed\", F.col(\"time_completed\").cast(\"date\"))\n",
    "\n",
    "    # Union the main data with the fallback row to ensure all rows are included\n",
    "    final_df = df_with_id.select(\n",
    "        \"course_user_id\", \"course_id\", \"user_id\", \"course_name\", \"course_category\",\n",
    "        \"completion_status\", \"time_enrolled\", \"time_started\", \"time_completed\"\n",
    "    ).unionByName(fallback_row)\n",
    "\n",
    "    # Save the final DataFrame as a Delta table at the specified output path\n",
    "    output_path = f\"{catalog_name}.schema.dim_course_progress\"\n",
    "    final_df.write.format(\"delta\").mode(\"overwrite\").saveAsTable(output_path)\n",
    "\n",
    "    # Return the final DataFrame (optional, useful for further processing or testing)\n",
    "    return final_df"
   ]
  }
 ],
 "metadata": {
  "application/vnd.databricks.v1+notebook": {
   "computePreferences": null,
   "dashboards": [],
   "environmentMetadata": {
    "base_environment": "",
    "environment_version": "2"
   },
   "inputWidgetPreferences": null,
   "language": "python",
   "notebookMetadata": {
    "pythonIndentUnit": 4
   },
   "notebookName": "dim_course_progress",
   "widgets": {}
  },
  "language_info": {
   "name": "python"
  }
 },
 "nbformat": 4,
 "nbformat_minor": 0
}
