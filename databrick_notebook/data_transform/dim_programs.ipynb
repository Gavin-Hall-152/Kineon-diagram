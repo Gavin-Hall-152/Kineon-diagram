{
 "cells": [
  {
   "cell_type": "code",
   "execution_count": 0,
   "metadata": {
    "application/vnd.databricks.v1+cell": {
     "cellMetadata": {},
     "inputWidgets": {},
     "nuid": "c134132f-bec9-4919-a4fc-64e2d32f2b70",
     "showTitle": false,
     "tableResultSettingsMap": {},
     "title": ""
    }
   },
   "outputs": [],
   "source": [
    "from pyspark.sql import SparkSession\n",
    "from pyspark.sql import functions as F\n",
    "\n",
    "def dim_programs(catalog_name):\n",
    "    # Load the input table\n",
    "    analytics_program_completions = f\"{catalog_name}.cleaned_data.analytics_program_completions\"\n",
    "    programs_df = spark.read.table(analytics_program_completions)\n",
    "\n",
    "    # Aggregate actual programs\n",
    "    grouped_programs = (\n",
    "        programs_df\n",
    "        .groupBy(\"Program ID\")\n",
    "        .agg(\n",
    "            F.max(\"Program Name\").alias(\"program_name\"),\n",
    "            F.max(\"Category\").alias(\"category\"),\n",
    "            F.max(\"Include in Dashboard\").alias(\"include_in_dashboard\")\n",
    "        )\n",
    "        .withColumnRenamed(\"Program ID\", \"program_id\")\n",
    "    )\n",
    "\n",
    "    # Add synthetic \"N/A\" program row\n",
    "    na_row = spark.createDataFrame([\n",
    "        (-1, \"N/A\", \"N/A\", False)\n",
    "    ], [\"program_id\", \"program_name\", \"category\", \"include_in_dashboard\"])\n",
    "\n",
    "    # Union both sets\n",
    "    result = grouped_programs.unionByName(na_row)\n",
    "\n",
    "    # Save as Delta\n",
    "    output_path = f\"{catalog_name}.schema.dim_programs\"\n",
    "    result.write.format(\"delta\").mode(\"overwrite\").saveAsTable(output_path)\n",
    "\n",
    "    return result"
   ]
  }
 ],
 "metadata": {
  "application/vnd.databricks.v1+notebook": {
   "computePreferences": null,
   "dashboards": [],
   "environmentMetadata": {
    "base_environment": "",
    "environment_version": "2"
   },
   "inputWidgetPreferences": null,
   "language": "python",
   "notebookMetadata": {
    "pythonIndentUnit": 4
   },
   "notebookName": "dim_programs",
   "widgets": {}
  },
  "language_info": {
   "name": "python"
  }
 },
 "nbformat": 4,
 "nbformat_minor": 0
}
