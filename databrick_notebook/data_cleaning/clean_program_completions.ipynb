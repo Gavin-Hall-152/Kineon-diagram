{
 "cells": [
  {
   "cell_type": "code",
   "execution_count": 0,
   "metadata": {
    "application/vnd.databricks.v1+cell": {
     "cellMetadata": {},
     "inputWidgets": {},
     "nuid": "b7d0e2ac-34fe-49db-b2d4-5e4a9e672539",
     "showTitle": false,
     "tableResultSettingsMap": {},
     "title": ""
    }
   },
   "outputs": [],
   "source": [
    "from pyspark.sql import SparkSession\n",
    "from pyspark.sql.functions import col, to_timestamp, regexp_replace, when\n",
    "from pyspark.sql.types import LongType\n",
    "\n",
    "def clean_program_completions(catalog_name):\n",
    "    spark = SparkSession.builder.getOrCreate()\n",
    "\n",
    "    csv_path = f\"/Volumes/{catalog_name}/raw_data/{catalog_name}_data/kineo_analytics___program_completions_report_report.csv\"\n",
    "    table_path = f\"{catalog_name}.cleaned_data.analytics_program_completions\"\n",
    "\n",
    "    columns_to_transform_to_datetime = [\n",
    "        \"Time assigned\", \"Time started\", \"Time completed\", \"Time due\"\n",
    "    ]\n",
    "    columns_to_transform_to_boolean = [\"Include in dashboard\"]\n",
    "    columns_to_transform_to_bigint = [\"User ID\", \"Program ID\"]\n",
    "\n",
    "    try:\n",
    "        # Read CSV\n",
    "        df = spark.read.format(\"csv\").option(\"header\", \"true\").load(csv_path)\n",
    "\n",
    "        # Convert datetime columns\n",
    "        for col_name in columns_to_transform_to_datetime:\n",
    "            df = df.withColumn(\n",
    "                col_name,\n",
    "                to_timestamp(regexp_replace(col(col_name), \",\", \"\"), \"dd/MM/yyyy HH:mm:ss\")\n",
    "            )\n",
    "\n",
    "        # Convert boolean fields\n",
    "        for col_name in columns_to_transform_to_boolean:\n",
    "            df = df.withColumn(\n",
    "                col_name,\n",
    "                when(col(col_name) == \"1\", True).otherwise(False)\n",
    "            )\n",
    "\n",
    "        # Convert bigint fields\n",
    "        for col_name in columns_to_transform_to_bigint:\n",
    "            df = df.withColumn(\n",
    "                col_name,\n",
    "                col(col_name).cast(LongType())\n",
    "            )\n",
    "\n",
    "        # Preview\n",
    "        display(df)\n",
    "\n",
    "        # Write to Delta Table\n",
    "        df.write.format(\"delta\") \\\n",
    "            .option(\"delta.columnMapping.mode\", \"name\") \\\n",
    "            .mode(\"overwrite\") \\\n",
    "            .saveAsTable(table_path)\n",
    "\n",
    "        print(f\"Successfully processed {csv_path} -> {table_path}\")\n",
    "    except Exception as e:\n",
    "        print(f\"Data cleaning failed: {e}\")"
   ]
  }
 ],
 "metadata": {
  "application/vnd.databricks.v1+notebook": {
   "computePreferences": null,
   "dashboards": [],
   "environmentMetadata": {
    "base_environment": "",
    "environment_version": "2"
   },
   "inputWidgetPreferences": null,
   "language": "python",
   "notebookMetadata": {
    "pythonIndentUnit": 4
   },
   "notebookName": "clean_program_completions",
   "widgets": {}
  },
  "language_info": {
   "name": "python"
  }
 },
 "nbformat": 4,
 "nbformat_minor": 0
}