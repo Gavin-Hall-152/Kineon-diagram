{
 "cells": [
  {
   "cell_type": "code",
   "execution_count": 0,
   "metadata": {
    "application/vnd.databricks.v1+cell": {
     "cellMetadata": {},
     "inputWidgets": {},
     "nuid": "af292c94-0e7d-494d-8148-c1e2756adf2a",
     "showTitle": false,
     "tableResultSettingsMap": {},
     "title": ""
    }
   },
   "outputs": [],
   "source": [
    "from pyspark.sql import SparkSession\n",
    "from pyspark.sql.functions import col, to_timestamp, regexp_replace, when\n",
    "from pyspark.sql.types import LongType, StringType\n",
    "\n",
    "def clean_users(catalog_name):\n",
    "    spark = SparkSession.builder.getOrCreate()\n",
    "\n",
    "    csv_path = f\"/Volumes/{catalog_name}/raw_data/{catalog_name}_data/kineo_analytics___users_report_report.csv\"\n",
    "    table_path = f\"{catalog_name}.cleaned_data.analytics_users\"\n",
    "\n",
    "    columns_to_transform_to_datetime = []\n",
    "    columns_to_transform_to_boolean = []\n",
    "    columns_to_transform_to_bigint = [\n",
    "        \"Assignment ID\", \"User ID\", \"Organisation ID\", \"Position ID\", \"Manager ID\", \"Appraiser ID\"\n",
    "    ]\n",
    "\n",
    "    # Define expected schema\n",
    "    expected_schema = {\n",
    "        \"User ID\": LongType(),\n",
    "        \"User's Fullname\": StringType(),\n",
    "        \"User First Name\": StringType(),\n",
    "        \"User Last Name\": StringType(),\n",
    "        \"User's Country\": StringType(),\n",
    "        \"User's City\": StringType(),\n",
    "        \"User Status\": StringType(),\n",
    "        \"Assignment ID\": LongType(),\n",
    "        \"Assignment Name\": StringType(),\n",
    "        \"Organisation ID\": LongType(),\n",
    "        \"Organisation Name\": StringType(),\n",
    "        \"Position ID\": LongType(),\n",
    "        \"Position Name\": StringType(),\n",
    "        \"Manager ID\": LongType(),\n",
    "        \"Manager Name\": StringType(),\n",
    "        \"Appraiser ID\": LongType(),\n",
    "        \"Appraiser Name\": StringType()\n",
    "    }\n",
    "\n",
    "    try:\n",
    "        # Read CSV\n",
    "        df = spark.read.format(\"csv\").option(\"header\", \"true\").load(csv_path)\n",
    "\n",
    "        # Transform datetime columns\n",
    "        for col_name in columns_to_transform_to_datetime:\n",
    "            df = df.withColumn(\n",
    "                col_name,\n",
    "                to_timestamp(regexp_replace(col(col_name), \",\", \"\"), \"dd/MM/yyyy HH:mm:ss\")\n",
    "            )\n",
    "\n",
    "        # Transform boolean columns\n",
    "        for col_name in columns_to_transform_to_boolean:\n",
    "            df = df.withColumn(\n",
    "                col_name,\n",
    "                when(col(col_name) == \"1\", True).otherwise(False)\n",
    "            )\n",
    "\n",
    "        # Transform bigint columns\n",
    "        for col_name in columns_to_transform_to_bigint:\n",
    "            df = df.withColumn(\n",
    "                col_name,\n",
    "                col(col_name).cast(LongType())\n",
    "            )\n",
    "\n",
    "        # Optional preview\n",
    "        display(df)\n",
    "\n",
    "        # Write to Delta Table\n",
    "        df.write.format(\"delta\") \\\n",
    "            .option(\"delta.columnMapping.mode\", \"name\") \\\n",
    "            .mode(\"overwrite\") \\\n",
    "            .saveAsTable(table_path)\n",
    "\n",
    "        print(f\"Successfully processed {csv_path} -> {table_path}\")\n",
    "\n",
    "    except Exception as e:\n",
    "        print(f\"ETL process failed: {e}\")"
   ]
  }
 ],
 "metadata": {
  "application/vnd.databricks.v1+notebook": {
   "computePreferences": null,
   "dashboards": [],
   "environmentMetadata": {
    "base_environment": "",
    "environment_version": "2"
   },
   "inputWidgetPreferences": null,
   "language": "python",
   "notebookMetadata": {
    "pythonIndentUnit": 4
   },
   "notebookName": "clean_users",
   "widgets": {}
  },
  "language_info": {
   "name": "python"
  }
 },
 "nbformat": 4,
 "nbformat_minor": 0
}